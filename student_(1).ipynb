{
  "cells": [
    {
      "cell_type": "markdown",
      "metadata": {
        "id": "view-in-github",
        "colab_type": "text"
      },
      "source": [
        "<a href=\"https://colab.research.google.com/github/paulmachau/House_sales_predictor_datasets/blob/main/student_(1).ipynb\" target=\"_parent\"><img src=\"https://colab.research.google.com/assets/colab-badge.svg\" alt=\"Open In Colab\"/></a>"
      ]
    },
    {
      "cell_type": "markdown",
      "metadata": {
        "id": "qo1y3acl9KoU"
      },
      "source": [
        "## Final Project Submission\n",
        "\n",
        "Please fill out:\n",
        "* Student name: \n",
        "* Student pace: self paced / part time / full time\n",
        "* Scheduled project review date/time: \n",
        "* Instructor name: \n",
        "* Blog post URL:\n"
      ]
    },
    {
      "cell_type": "code",
      "execution_count": 5,
      "metadata": {
        "id": "-Uc_Naqz9KoW"
      },
      "outputs": [],
      "source": [
        "# import the necessary libraries\n",
        "import pandas as pd\n",
        "import numpy as np\n",
        "import matplotlib.pyplot as plt\n",
        "import seaborn as sns\n",
        "import statsmodels.formula.api as sfm\n",
        "import statsmodels.api as sm\n",
        "import matplotlib.pyplot as plt\n",
        "\n",
        "%matplotlib inline\n",
        "\n",
        "plt.style.use('seaborn')\n",
        "import warnings\n",
        "warnings.filterwarnings('ignore')\n"
      ]
    },
    {
      "cell_type": "code",
      "execution_count": 6,
      "metadata": {
        "colab": {
          "base_uri": "https://localhost:8080/",
          "height": 369
        },
        "id": "ZjsXMc6b9KoY",
        "outputId": "da877173-ee89-47f6-e809-04b4ef85d91c"
      },
      "outputs": [
        {
          "output_type": "execute_result",
          "data": {
            "text/plain": [
              "           id        date     price  bedrooms  bathrooms  sqft_living  \\\n",
              "0  7129300520  10/13/2014  221900.0         3       1.00         1180   \n",
              "1  6414100192   12/9/2014  538000.0         3       2.25         2570   \n",
              "2  5631500400   2/25/2015  180000.0         2       1.00          770   \n",
              "3  2487200875   12/9/2014  604000.0         4       3.00         1960   \n",
              "4  1954400510   2/18/2015  510000.0         3       2.00         1680   \n",
              "\n",
              "   sqft_lot  floors waterfront  view  ...          grade sqft_above  \\\n",
              "0      5650     1.0        NaN  NONE  ...      7 Average       1180   \n",
              "1      7242     2.0         NO  NONE  ...      7 Average       2170   \n",
              "2     10000     1.0         NO  NONE  ...  6 Low Average        770   \n",
              "3      5000     1.0         NO  NONE  ...      7 Average       1050   \n",
              "4      8080     1.0         NO  NONE  ...         8 Good       1680   \n",
              "\n",
              "   sqft_basement yr_built  yr_renovated  zipcode      lat     long  \\\n",
              "0            0.0     1955           0.0    98178  47.5112 -122.257   \n",
              "1          400.0     1951        1991.0    98125  47.7210 -122.319   \n",
              "2            0.0     1933           NaN    98028  47.7379 -122.233   \n",
              "3          910.0     1965           0.0    98136  47.5208 -122.393   \n",
              "4            0.0     1987           0.0    98074  47.6168 -122.045   \n",
              "\n",
              "   sqft_living15  sqft_lot15  \n",
              "0           1340        5650  \n",
              "1           1690        7639  \n",
              "2           2720        8062  \n",
              "3           1360        5000  \n",
              "4           1800        7503  \n",
              "\n",
              "[5 rows x 21 columns]"
            ],
            "text/html": [
              "\n",
              "  <div id=\"df-77ee302c-9cca-4b5e-a353-128a2f50a1af\">\n",
              "    <div class=\"colab-df-container\">\n",
              "      <div>\n",
              "<style scoped>\n",
              "    .dataframe tbody tr th:only-of-type {\n",
              "        vertical-align: middle;\n",
              "    }\n",
              "\n",
              "    .dataframe tbody tr th {\n",
              "        vertical-align: top;\n",
              "    }\n",
              "\n",
              "    .dataframe thead th {\n",
              "        text-align: right;\n",
              "    }\n",
              "</style>\n",
              "<table border=\"1\" class=\"dataframe\">\n",
              "  <thead>\n",
              "    <tr style=\"text-align: right;\">\n",
              "      <th></th>\n",
              "      <th>id</th>\n",
              "      <th>date</th>\n",
              "      <th>price</th>\n",
              "      <th>bedrooms</th>\n",
              "      <th>bathrooms</th>\n",
              "      <th>sqft_living</th>\n",
              "      <th>sqft_lot</th>\n",
              "      <th>floors</th>\n",
              "      <th>waterfront</th>\n",
              "      <th>view</th>\n",
              "      <th>...</th>\n",
              "      <th>grade</th>\n",
              "      <th>sqft_above</th>\n",
              "      <th>sqft_basement</th>\n",
              "      <th>yr_built</th>\n",
              "      <th>yr_renovated</th>\n",
              "      <th>zipcode</th>\n",
              "      <th>lat</th>\n",
              "      <th>long</th>\n",
              "      <th>sqft_living15</th>\n",
              "      <th>sqft_lot15</th>\n",
              "    </tr>\n",
              "  </thead>\n",
              "  <tbody>\n",
              "    <tr>\n",
              "      <th>0</th>\n",
              "      <td>7129300520</td>\n",
              "      <td>10/13/2014</td>\n",
              "      <td>221900.0</td>\n",
              "      <td>3</td>\n",
              "      <td>1.00</td>\n",
              "      <td>1180</td>\n",
              "      <td>5650</td>\n",
              "      <td>1.0</td>\n",
              "      <td>NaN</td>\n",
              "      <td>NONE</td>\n",
              "      <td>...</td>\n",
              "      <td>7 Average</td>\n",
              "      <td>1180</td>\n",
              "      <td>0.0</td>\n",
              "      <td>1955</td>\n",
              "      <td>0.0</td>\n",
              "      <td>98178</td>\n",
              "      <td>47.5112</td>\n",
              "      <td>-122.257</td>\n",
              "      <td>1340</td>\n",
              "      <td>5650</td>\n",
              "    </tr>\n",
              "    <tr>\n",
              "      <th>1</th>\n",
              "      <td>6414100192</td>\n",
              "      <td>12/9/2014</td>\n",
              "      <td>538000.0</td>\n",
              "      <td>3</td>\n",
              "      <td>2.25</td>\n",
              "      <td>2570</td>\n",
              "      <td>7242</td>\n",
              "      <td>2.0</td>\n",
              "      <td>NO</td>\n",
              "      <td>NONE</td>\n",
              "      <td>...</td>\n",
              "      <td>7 Average</td>\n",
              "      <td>2170</td>\n",
              "      <td>400.0</td>\n",
              "      <td>1951</td>\n",
              "      <td>1991.0</td>\n",
              "      <td>98125</td>\n",
              "      <td>47.7210</td>\n",
              "      <td>-122.319</td>\n",
              "      <td>1690</td>\n",
              "      <td>7639</td>\n",
              "    </tr>\n",
              "    <tr>\n",
              "      <th>2</th>\n",
              "      <td>5631500400</td>\n",
              "      <td>2/25/2015</td>\n",
              "      <td>180000.0</td>\n",
              "      <td>2</td>\n",
              "      <td>1.00</td>\n",
              "      <td>770</td>\n",
              "      <td>10000</td>\n",
              "      <td>1.0</td>\n",
              "      <td>NO</td>\n",
              "      <td>NONE</td>\n",
              "      <td>...</td>\n",
              "      <td>6 Low Average</td>\n",
              "      <td>770</td>\n",
              "      <td>0.0</td>\n",
              "      <td>1933</td>\n",
              "      <td>NaN</td>\n",
              "      <td>98028</td>\n",
              "      <td>47.7379</td>\n",
              "      <td>-122.233</td>\n",
              "      <td>2720</td>\n",
              "      <td>8062</td>\n",
              "    </tr>\n",
              "    <tr>\n",
              "      <th>3</th>\n",
              "      <td>2487200875</td>\n",
              "      <td>12/9/2014</td>\n",
              "      <td>604000.0</td>\n",
              "      <td>4</td>\n",
              "      <td>3.00</td>\n",
              "      <td>1960</td>\n",
              "      <td>5000</td>\n",
              "      <td>1.0</td>\n",
              "      <td>NO</td>\n",
              "      <td>NONE</td>\n",
              "      <td>...</td>\n",
              "      <td>7 Average</td>\n",
              "      <td>1050</td>\n",
              "      <td>910.0</td>\n",
              "      <td>1965</td>\n",
              "      <td>0.0</td>\n",
              "      <td>98136</td>\n",
              "      <td>47.5208</td>\n",
              "      <td>-122.393</td>\n",
              "      <td>1360</td>\n",
              "      <td>5000</td>\n",
              "    </tr>\n",
              "    <tr>\n",
              "      <th>4</th>\n",
              "      <td>1954400510</td>\n",
              "      <td>2/18/2015</td>\n",
              "      <td>510000.0</td>\n",
              "      <td>3</td>\n",
              "      <td>2.00</td>\n",
              "      <td>1680</td>\n",
              "      <td>8080</td>\n",
              "      <td>1.0</td>\n",
              "      <td>NO</td>\n",
              "      <td>NONE</td>\n",
              "      <td>...</td>\n",
              "      <td>8 Good</td>\n",
              "      <td>1680</td>\n",
              "      <td>0.0</td>\n",
              "      <td>1987</td>\n",
              "      <td>0.0</td>\n",
              "      <td>98074</td>\n",
              "      <td>47.6168</td>\n",
              "      <td>-122.045</td>\n",
              "      <td>1800</td>\n",
              "      <td>7503</td>\n",
              "    </tr>\n",
              "  </tbody>\n",
              "</table>\n",
              "<p>5 rows × 21 columns</p>\n",
              "</div>\n",
              "      <button class=\"colab-df-convert\" onclick=\"convertToInteractive('df-77ee302c-9cca-4b5e-a353-128a2f50a1af')\"\n",
              "              title=\"Convert this dataframe to an interactive table.\"\n",
              "              style=\"display:none;\">\n",
              "        \n",
              "  <svg xmlns=\"http://www.w3.org/2000/svg\" height=\"24px\"viewBox=\"0 0 24 24\"\n",
              "       width=\"24px\">\n",
              "    <path d=\"M0 0h24v24H0V0z\" fill=\"none\"/>\n",
              "    <path d=\"M18.56 5.44l.94 2.06.94-2.06 2.06-.94-2.06-.94-.94-2.06-.94 2.06-2.06.94zm-11 1L8.5 8.5l.94-2.06 2.06-.94-2.06-.94L8.5 2.5l-.94 2.06-2.06.94zm10 10l.94 2.06.94-2.06 2.06-.94-2.06-.94-.94-2.06-.94 2.06-2.06.94z\"/><path d=\"M17.41 7.96l-1.37-1.37c-.4-.4-.92-.59-1.43-.59-.52 0-1.04.2-1.43.59L10.3 9.45l-7.72 7.72c-.78.78-.78 2.05 0 2.83L4 21.41c.39.39.9.59 1.41.59.51 0 1.02-.2 1.41-.59l7.78-7.78 2.81-2.81c.8-.78.8-2.07 0-2.86zM5.41 20L4 18.59l7.72-7.72 1.47 1.35L5.41 20z\"/>\n",
              "  </svg>\n",
              "      </button>\n",
              "      \n",
              "  <style>\n",
              "    .colab-df-container {\n",
              "      display:flex;\n",
              "      flex-wrap:wrap;\n",
              "      gap: 12px;\n",
              "    }\n",
              "\n",
              "    .colab-df-convert {\n",
              "      background-color: #E8F0FE;\n",
              "      border: none;\n",
              "      border-radius: 50%;\n",
              "      cursor: pointer;\n",
              "      display: none;\n",
              "      fill: #1967D2;\n",
              "      height: 32px;\n",
              "      padding: 0 0 0 0;\n",
              "      width: 32px;\n",
              "    }\n",
              "\n",
              "    .colab-df-convert:hover {\n",
              "      background-color: #E2EBFA;\n",
              "      box-shadow: 0px 1px 2px rgba(60, 64, 67, 0.3), 0px 1px 3px 1px rgba(60, 64, 67, 0.15);\n",
              "      fill: #174EA6;\n",
              "    }\n",
              "\n",
              "    [theme=dark] .colab-df-convert {\n",
              "      background-color: #3B4455;\n",
              "      fill: #D2E3FC;\n",
              "    }\n",
              "\n",
              "    [theme=dark] .colab-df-convert:hover {\n",
              "      background-color: #434B5C;\n",
              "      box-shadow: 0px 1px 3px 1px rgba(0, 0, 0, 0.15);\n",
              "      filter: drop-shadow(0px 1px 2px rgba(0, 0, 0, 0.3));\n",
              "      fill: #FFFFFF;\n",
              "    }\n",
              "  </style>\n",
              "\n",
              "      <script>\n",
              "        const buttonEl =\n",
              "          document.querySelector('#df-77ee302c-9cca-4b5e-a353-128a2f50a1af button.colab-df-convert');\n",
              "        buttonEl.style.display =\n",
              "          google.colab.kernel.accessAllowed ? 'block' : 'none';\n",
              "\n",
              "        async function convertToInteractive(key) {\n",
              "          const element = document.querySelector('#df-77ee302c-9cca-4b5e-a353-128a2f50a1af');\n",
              "          const dataTable =\n",
              "            await google.colab.kernel.invokeFunction('convertToInteractive',\n",
              "                                                     [key], {});\n",
              "          if (!dataTable) return;\n",
              "\n",
              "          const docLinkHtml = 'Like what you see? Visit the ' +\n",
              "            '<a target=\"_blank\" href=https://colab.research.google.com/notebooks/data_table.ipynb>data table notebook</a>'\n",
              "            + ' to learn more about interactive tables.';\n",
              "          element.innerHTML = '';\n",
              "          dataTable['output_type'] = 'display_data';\n",
              "          await google.colab.output.renderOutput(dataTable, element);\n",
              "          const docLink = document.createElement('div');\n",
              "          docLink.innerHTML = docLinkHtml;\n",
              "          element.appendChild(docLink);\n",
              "        }\n",
              "      </script>\n",
              "    </div>\n",
              "  </div>\n",
              "  "
            ]
          },
          "metadata": {},
          "execution_count": 6
        }
      ],
      "source": [
        "df = pd.read_csv('kc_house_data.csv')\n",
        "df.head()"
      ]
    },
    {
      "cell_type": "code",
      "execution_count": 7,
      "metadata": {
        "colab": {
          "base_uri": "https://localhost:8080/"
        },
        "id": "qVCn2vBa9KoZ",
        "outputId": "68603bd9-2f27-4756-a9a8-608dd651b335"
      },
      "outputs": [
        {
          "output_type": "stream",
          "name": "stdout",
          "text": [
            "<class 'pandas.core.frame.DataFrame'>\n",
            "RangeIndex: 21597 entries, 0 to 21596\n",
            "Data columns (total 21 columns):\n",
            " #   Column         Non-Null Count  Dtype  \n",
            "---  ------         --------------  -----  \n",
            " 0   id             21597 non-null  int64  \n",
            " 1   date           21597 non-null  object \n",
            " 2   price          21597 non-null  float64\n",
            " 3   bedrooms       21597 non-null  int64  \n",
            " 4   bathrooms      21597 non-null  float64\n",
            " 5   sqft_living    21597 non-null  int64  \n",
            " 6   sqft_lot       21597 non-null  int64  \n",
            " 7   floors         21597 non-null  float64\n",
            " 8   waterfront     19221 non-null  object \n",
            " 9   view           21534 non-null  object \n",
            " 10  condition      21597 non-null  object \n",
            " 11  grade          21597 non-null  object \n",
            " 12  sqft_above     21597 non-null  int64  \n",
            " 13  sqft_basement  21597 non-null  object \n",
            " 14  yr_built       21597 non-null  int64  \n",
            " 15  yr_renovated   17755 non-null  float64\n",
            " 16  zipcode        21597 non-null  int64  \n",
            " 17  lat            21597 non-null  float64\n",
            " 18  long           21597 non-null  float64\n",
            " 19  sqft_living15  21597 non-null  int64  \n",
            " 20  sqft_lot15     21597 non-null  int64  \n",
            "dtypes: float64(6), int64(9), object(6)\n",
            "memory usage: 3.5+ MB\n"
          ]
        }
      ],
      "source": [
        "df.info()"
      ]
    },
    {
      "cell_type": "code",
      "execution_count": 8,
      "metadata": {
        "colab": {
          "base_uri": "https://localhost:8080/",
          "height": 364
        },
        "id": "UuWXM2UU9Koa",
        "outputId": "29777101-2418-432a-b879-974d3c37aaf3"
      },
      "outputs": [
        {
          "output_type": "execute_result",
          "data": {
            "text/plain": [
              "                 id         price      bedrooms     bathrooms   sqft_living  \\\n",
              "count  2.159700e+04  2.159700e+04  21597.000000  21597.000000  21597.000000   \n",
              "mean   4.580474e+09  5.402966e+05      3.373200      2.115826   2080.321850   \n",
              "std    2.876736e+09  3.673681e+05      0.926299      0.768984    918.106125   \n",
              "min    1.000102e+06  7.800000e+04      1.000000      0.500000    370.000000   \n",
              "25%    2.123049e+09  3.220000e+05      3.000000      1.750000   1430.000000   \n",
              "50%    3.904930e+09  4.500000e+05      3.000000      2.250000   1910.000000   \n",
              "75%    7.308900e+09  6.450000e+05      4.000000      2.500000   2550.000000   \n",
              "max    9.900000e+09  7.700000e+06     33.000000      8.000000  13540.000000   \n",
              "\n",
              "           sqft_lot        floors    sqft_above      yr_built  yr_renovated  \\\n",
              "count  2.159700e+04  21597.000000  21597.000000  21597.000000  17755.000000   \n",
              "mean   1.509941e+04      1.494096   1788.596842   1970.999676     83.636778   \n",
              "std    4.141264e+04      0.539683    827.759761     29.375234    399.946414   \n",
              "min    5.200000e+02      1.000000    370.000000   1900.000000      0.000000   \n",
              "25%    5.040000e+03      1.000000   1190.000000   1951.000000      0.000000   \n",
              "50%    7.618000e+03      1.500000   1560.000000   1975.000000      0.000000   \n",
              "75%    1.068500e+04      2.000000   2210.000000   1997.000000      0.000000   \n",
              "max    1.651359e+06      3.500000   9410.000000   2015.000000   2015.000000   \n",
              "\n",
              "            zipcode           lat          long  sqft_living15     sqft_lot15  \n",
              "count  21597.000000  21597.000000  21597.000000   21597.000000   21597.000000  \n",
              "mean   98077.951845     47.560093   -122.213982    1986.620318   12758.283512  \n",
              "std       53.513072      0.138552      0.140724     685.230472   27274.441950  \n",
              "min    98001.000000     47.155900   -122.519000     399.000000     651.000000  \n",
              "25%    98033.000000     47.471100   -122.328000    1490.000000    5100.000000  \n",
              "50%    98065.000000     47.571800   -122.231000    1840.000000    7620.000000  \n",
              "75%    98118.000000     47.678000   -122.125000    2360.000000   10083.000000  \n",
              "max    98199.000000     47.777600   -121.315000    6210.000000  871200.000000  "
            ],
            "text/html": [
              "\n",
              "  <div id=\"df-0e439708-c448-4746-959f-4f7172bdb0f7\">\n",
              "    <div class=\"colab-df-container\">\n",
              "      <div>\n",
              "<style scoped>\n",
              "    .dataframe tbody tr th:only-of-type {\n",
              "        vertical-align: middle;\n",
              "    }\n",
              "\n",
              "    .dataframe tbody tr th {\n",
              "        vertical-align: top;\n",
              "    }\n",
              "\n",
              "    .dataframe thead th {\n",
              "        text-align: right;\n",
              "    }\n",
              "</style>\n",
              "<table border=\"1\" class=\"dataframe\">\n",
              "  <thead>\n",
              "    <tr style=\"text-align: right;\">\n",
              "      <th></th>\n",
              "      <th>id</th>\n",
              "      <th>price</th>\n",
              "      <th>bedrooms</th>\n",
              "      <th>bathrooms</th>\n",
              "      <th>sqft_living</th>\n",
              "      <th>sqft_lot</th>\n",
              "      <th>floors</th>\n",
              "      <th>sqft_above</th>\n",
              "      <th>yr_built</th>\n",
              "      <th>yr_renovated</th>\n",
              "      <th>zipcode</th>\n",
              "      <th>lat</th>\n",
              "      <th>long</th>\n",
              "      <th>sqft_living15</th>\n",
              "      <th>sqft_lot15</th>\n",
              "    </tr>\n",
              "  </thead>\n",
              "  <tbody>\n",
              "    <tr>\n",
              "      <th>count</th>\n",
              "      <td>2.159700e+04</td>\n",
              "      <td>2.159700e+04</td>\n",
              "      <td>21597.000000</td>\n",
              "      <td>21597.000000</td>\n",
              "      <td>21597.000000</td>\n",
              "      <td>2.159700e+04</td>\n",
              "      <td>21597.000000</td>\n",
              "      <td>21597.000000</td>\n",
              "      <td>21597.000000</td>\n",
              "      <td>17755.000000</td>\n",
              "      <td>21597.000000</td>\n",
              "      <td>21597.000000</td>\n",
              "      <td>21597.000000</td>\n",
              "      <td>21597.000000</td>\n",
              "      <td>21597.000000</td>\n",
              "    </tr>\n",
              "    <tr>\n",
              "      <th>mean</th>\n",
              "      <td>4.580474e+09</td>\n",
              "      <td>5.402966e+05</td>\n",
              "      <td>3.373200</td>\n",
              "      <td>2.115826</td>\n",
              "      <td>2080.321850</td>\n",
              "      <td>1.509941e+04</td>\n",
              "      <td>1.494096</td>\n",
              "      <td>1788.596842</td>\n",
              "      <td>1970.999676</td>\n",
              "      <td>83.636778</td>\n",
              "      <td>98077.951845</td>\n",
              "      <td>47.560093</td>\n",
              "      <td>-122.213982</td>\n",
              "      <td>1986.620318</td>\n",
              "      <td>12758.283512</td>\n",
              "    </tr>\n",
              "    <tr>\n",
              "      <th>std</th>\n",
              "      <td>2.876736e+09</td>\n",
              "      <td>3.673681e+05</td>\n",
              "      <td>0.926299</td>\n",
              "      <td>0.768984</td>\n",
              "      <td>918.106125</td>\n",
              "      <td>4.141264e+04</td>\n",
              "      <td>0.539683</td>\n",
              "      <td>827.759761</td>\n",
              "      <td>29.375234</td>\n",
              "      <td>399.946414</td>\n",
              "      <td>53.513072</td>\n",
              "      <td>0.138552</td>\n",
              "      <td>0.140724</td>\n",
              "      <td>685.230472</td>\n",
              "      <td>27274.441950</td>\n",
              "    </tr>\n",
              "    <tr>\n",
              "      <th>min</th>\n",
              "      <td>1.000102e+06</td>\n",
              "      <td>7.800000e+04</td>\n",
              "      <td>1.000000</td>\n",
              "      <td>0.500000</td>\n",
              "      <td>370.000000</td>\n",
              "      <td>5.200000e+02</td>\n",
              "      <td>1.000000</td>\n",
              "      <td>370.000000</td>\n",
              "      <td>1900.000000</td>\n",
              "      <td>0.000000</td>\n",
              "      <td>98001.000000</td>\n",
              "      <td>47.155900</td>\n",
              "      <td>-122.519000</td>\n",
              "      <td>399.000000</td>\n",
              "      <td>651.000000</td>\n",
              "    </tr>\n",
              "    <tr>\n",
              "      <th>25%</th>\n",
              "      <td>2.123049e+09</td>\n",
              "      <td>3.220000e+05</td>\n",
              "      <td>3.000000</td>\n",
              "      <td>1.750000</td>\n",
              "      <td>1430.000000</td>\n",
              "      <td>5.040000e+03</td>\n",
              "      <td>1.000000</td>\n",
              "      <td>1190.000000</td>\n",
              "      <td>1951.000000</td>\n",
              "      <td>0.000000</td>\n",
              "      <td>98033.000000</td>\n",
              "      <td>47.471100</td>\n",
              "      <td>-122.328000</td>\n",
              "      <td>1490.000000</td>\n",
              "      <td>5100.000000</td>\n",
              "    </tr>\n",
              "    <tr>\n",
              "      <th>50%</th>\n",
              "      <td>3.904930e+09</td>\n",
              "      <td>4.500000e+05</td>\n",
              "      <td>3.000000</td>\n",
              "      <td>2.250000</td>\n",
              "      <td>1910.000000</td>\n",
              "      <td>7.618000e+03</td>\n",
              "      <td>1.500000</td>\n",
              "      <td>1560.000000</td>\n",
              "      <td>1975.000000</td>\n",
              "      <td>0.000000</td>\n",
              "      <td>98065.000000</td>\n",
              "      <td>47.571800</td>\n",
              "      <td>-122.231000</td>\n",
              "      <td>1840.000000</td>\n",
              "      <td>7620.000000</td>\n",
              "    </tr>\n",
              "    <tr>\n",
              "      <th>75%</th>\n",
              "      <td>7.308900e+09</td>\n",
              "      <td>6.450000e+05</td>\n",
              "      <td>4.000000</td>\n",
              "      <td>2.500000</td>\n",
              "      <td>2550.000000</td>\n",
              "      <td>1.068500e+04</td>\n",
              "      <td>2.000000</td>\n",
              "      <td>2210.000000</td>\n",
              "      <td>1997.000000</td>\n",
              "      <td>0.000000</td>\n",
              "      <td>98118.000000</td>\n",
              "      <td>47.678000</td>\n",
              "      <td>-122.125000</td>\n",
              "      <td>2360.000000</td>\n",
              "      <td>10083.000000</td>\n",
              "    </tr>\n",
              "    <tr>\n",
              "      <th>max</th>\n",
              "      <td>9.900000e+09</td>\n",
              "      <td>7.700000e+06</td>\n",
              "      <td>33.000000</td>\n",
              "      <td>8.000000</td>\n",
              "      <td>13540.000000</td>\n",
              "      <td>1.651359e+06</td>\n",
              "      <td>3.500000</td>\n",
              "      <td>9410.000000</td>\n",
              "      <td>2015.000000</td>\n",
              "      <td>2015.000000</td>\n",
              "      <td>98199.000000</td>\n",
              "      <td>47.777600</td>\n",
              "      <td>-121.315000</td>\n",
              "      <td>6210.000000</td>\n",
              "      <td>871200.000000</td>\n",
              "    </tr>\n",
              "  </tbody>\n",
              "</table>\n",
              "</div>\n",
              "      <button class=\"colab-df-convert\" onclick=\"convertToInteractive('df-0e439708-c448-4746-959f-4f7172bdb0f7')\"\n",
              "              title=\"Convert this dataframe to an interactive table.\"\n",
              "              style=\"display:none;\">\n",
              "        \n",
              "  <svg xmlns=\"http://www.w3.org/2000/svg\" height=\"24px\"viewBox=\"0 0 24 24\"\n",
              "       width=\"24px\">\n",
              "    <path d=\"M0 0h24v24H0V0z\" fill=\"none\"/>\n",
              "    <path d=\"M18.56 5.44l.94 2.06.94-2.06 2.06-.94-2.06-.94-.94-2.06-.94 2.06-2.06.94zm-11 1L8.5 8.5l.94-2.06 2.06-.94-2.06-.94L8.5 2.5l-.94 2.06-2.06.94zm10 10l.94 2.06.94-2.06 2.06-.94-2.06-.94-.94-2.06-.94 2.06-2.06.94z\"/><path d=\"M17.41 7.96l-1.37-1.37c-.4-.4-.92-.59-1.43-.59-.52 0-1.04.2-1.43.59L10.3 9.45l-7.72 7.72c-.78.78-.78 2.05 0 2.83L4 21.41c.39.39.9.59 1.41.59.51 0 1.02-.2 1.41-.59l7.78-7.78 2.81-2.81c.8-.78.8-2.07 0-2.86zM5.41 20L4 18.59l7.72-7.72 1.47 1.35L5.41 20z\"/>\n",
              "  </svg>\n",
              "      </button>\n",
              "      \n",
              "  <style>\n",
              "    .colab-df-container {\n",
              "      display:flex;\n",
              "      flex-wrap:wrap;\n",
              "      gap: 12px;\n",
              "    }\n",
              "\n",
              "    .colab-df-convert {\n",
              "      background-color: #E8F0FE;\n",
              "      border: none;\n",
              "      border-radius: 50%;\n",
              "      cursor: pointer;\n",
              "      display: none;\n",
              "      fill: #1967D2;\n",
              "      height: 32px;\n",
              "      padding: 0 0 0 0;\n",
              "      width: 32px;\n",
              "    }\n",
              "\n",
              "    .colab-df-convert:hover {\n",
              "      background-color: #E2EBFA;\n",
              "      box-shadow: 0px 1px 2px rgba(60, 64, 67, 0.3), 0px 1px 3px 1px rgba(60, 64, 67, 0.15);\n",
              "      fill: #174EA6;\n",
              "    }\n",
              "\n",
              "    [theme=dark] .colab-df-convert {\n",
              "      background-color: #3B4455;\n",
              "      fill: #D2E3FC;\n",
              "    }\n",
              "\n",
              "    [theme=dark] .colab-df-convert:hover {\n",
              "      background-color: #434B5C;\n",
              "      box-shadow: 0px 1px 3px 1px rgba(0, 0, 0, 0.15);\n",
              "      filter: drop-shadow(0px 1px 2px rgba(0, 0, 0, 0.3));\n",
              "      fill: #FFFFFF;\n",
              "    }\n",
              "  </style>\n",
              "\n",
              "      <script>\n",
              "        const buttonEl =\n",
              "          document.querySelector('#df-0e439708-c448-4746-959f-4f7172bdb0f7 button.colab-df-convert');\n",
              "        buttonEl.style.display =\n",
              "          google.colab.kernel.accessAllowed ? 'block' : 'none';\n",
              "\n",
              "        async function convertToInteractive(key) {\n",
              "          const element = document.querySelector('#df-0e439708-c448-4746-959f-4f7172bdb0f7');\n",
              "          const dataTable =\n",
              "            await google.colab.kernel.invokeFunction('convertToInteractive',\n",
              "                                                     [key], {});\n",
              "          if (!dataTable) return;\n",
              "\n",
              "          const docLinkHtml = 'Like what you see? Visit the ' +\n",
              "            '<a target=\"_blank\" href=https://colab.research.google.com/notebooks/data_table.ipynb>data table notebook</a>'\n",
              "            + ' to learn more about interactive tables.';\n",
              "          element.innerHTML = '';\n",
              "          dataTable['output_type'] = 'display_data';\n",
              "          await google.colab.output.renderOutput(dataTable, element);\n",
              "          const docLink = document.createElement('div');\n",
              "          docLink.innerHTML = docLinkHtml;\n",
              "          element.appendChild(docLink);\n",
              "        }\n",
              "      </script>\n",
              "    </div>\n",
              "  </div>\n",
              "  "
            ]
          },
          "metadata": {},
          "execution_count": 8
        }
      ],
      "source": [
        "df.describe()"
      ]
    },
    {
      "cell_type": "code",
      "execution_count": 9,
      "metadata": {
        "colab": {
          "base_uri": "https://localhost:8080/"
        },
        "id": "Jw1ddB7Y9Kob",
        "outputId": "d9965081-c7d7-4ee4-84a4-b399b82e4f17"
      },
      "outputs": [
        {
          "output_type": "execute_result",
          "data": {
            "text/plain": [
              "Index(['id', 'date', 'price', 'bedrooms', 'bathrooms', 'sqft_living',\n",
              "       'sqft_lot', 'floors', 'waterfront', 'view', 'condition', 'grade',\n",
              "       'sqft_above', 'sqft_basement', 'yr_built', 'yr_renovated', 'zipcode',\n",
              "       'lat', 'long', 'sqft_living15', 'sqft_lot15'],\n",
              "      dtype='object')"
            ]
          },
          "metadata": {},
          "execution_count": 9
        }
      ],
      "source": [
        "df.columns"
      ]
    },
    {
      "cell_type": "code",
      "execution_count": 9,
      "metadata": {
        "id": "OZn4Zl899Kob"
      },
      "outputs": [],
      "source": []
    },
    {
      "cell_type": "code",
      "execution_count": 10,
      "metadata": {
        "id": "9jkx6D1V9Kob"
      },
      "outputs": [],
      "source": [
        "# function to check null values\n",
        "def check_null(df):\n",
        "    return df.isna().sum()"
      ]
    },
    {
      "cell_type": "code",
      "execution_count": 11,
      "metadata": {
        "colab": {
          "base_uri": "https://localhost:8080/"
        },
        "id": "Xhw1QbLb9Koc",
        "outputId": "8d4d1fa6-11ba-4a6f-dd0a-3b9394357ff7"
      },
      "outputs": [
        {
          "output_type": "execute_result",
          "data": {
            "text/plain": [
              "id                  0\n",
              "date                0\n",
              "price               0\n",
              "bedrooms            0\n",
              "bathrooms           0\n",
              "sqft_living         0\n",
              "sqft_lot            0\n",
              "floors              0\n",
              "waterfront       2376\n",
              "view               63\n",
              "condition           0\n",
              "grade               0\n",
              "sqft_above          0\n",
              "sqft_basement       0\n",
              "yr_built            0\n",
              "yr_renovated     3842\n",
              "zipcode             0\n",
              "lat                 0\n",
              "long                0\n",
              "sqft_living15       0\n",
              "sqft_lot15          0\n",
              "dtype: int64"
            ]
          },
          "metadata": {},
          "execution_count": 11
        }
      ],
      "source": [
        "check_null(df)"
      ]
    },
    {
      "cell_type": "code",
      "execution_count": 12,
      "metadata": {
        "id": "cqSPBzGC9Koc"
      },
      "outputs": [],
      "source": [
        "# function to calculate percentage of null values\n",
        "def miss_percent(df,col):\n",
        "    miss = ((df[col].isna().sum()) / len(df[col])) * 100\n",
        "    return print(f'There is {miss} percent of values missing in {col}.')"
      ]
    },
    {
      "cell_type": "code",
      "execution_count": 13,
      "metadata": {
        "colab": {
          "base_uri": "https://localhost:8080/"
        },
        "id": "zAIj7dBj9Kod",
        "outputId": "fe51c8c8-9413-4664-bfde-605a98278491"
      },
      "outputs": [
        {
          "output_type": "stream",
          "name": "stdout",
          "text": [
            "There is 11.00152798999861 percent of values missing in waterfront.\n",
            "There is 0.29170718155299347 percent of values missing in view.\n",
            "There is 17.78950780200954 percent of values missing in yr_renovated.\n"
          ]
        }
      ],
      "source": [
        "# checking percentage of missing values in waterfront\n",
        "miss_percent(df,'waterfront')\n",
        "miss_percent(df, 'view')\n",
        "miss_percent(df, 'yr_renovated')"
      ]
    },
    {
      "cell_type": "code",
      "execution_count": 14,
      "metadata": {
        "colab": {
          "base_uri": "https://localhost:8080/"
        },
        "id": "Rg2VIS6w9Koe",
        "outputId": "e26514bc-ba43-40e5-f564-a20c5b407259"
      },
      "outputs": [
        {
          "output_type": "execute_result",
          "data": {
            "text/plain": [
              "0.0       17011\n",
              "2014.0       73\n",
              "2013.0       31\n",
              "2003.0       31\n",
              "2007.0       30\n",
              "          ...  \n",
              "1951.0        1\n",
              "1953.0        1\n",
              "1946.0        1\n",
              "1976.0        1\n",
              "1948.0        1\n",
              "Name: yr_renovated, Length: 70, dtype: int64"
            ]
          },
          "metadata": {},
          "execution_count": 14
        }
      ],
      "source": [
        "df['yr_renovated'].value_counts()"
      ]
    },
    {
      "cell_type": "code",
      "execution_count": 15,
      "metadata": {
        "id": "an9r-gEd9Koe"
      },
      "outputs": [],
      "source": [
        "# function to replace null with a specificied value\n",
        "def replace_nan(df,col, replace_value):\n",
        "    return df[col].fillna(replace_value, inplace=True)"
      ]
    },
    {
      "cell_type": "code",
      "execution_count": 16,
      "metadata": {
        "id": "0wZlISzq9Kof"
      },
      "outputs": [],
      "source": [
        "replace_nan(df,'yr_renovated',0)"
      ]
    },
    {
      "cell_type": "code",
      "execution_count": 17,
      "metadata": {
        "colab": {
          "base_uri": "https://localhost:8080/"
        },
        "id": "czWDti1X9Kof",
        "outputId": "3cd894cc-e11a-4479-db35-45434d10c8f2"
      },
      "outputs": [
        {
          "output_type": "execute_result",
          "data": {
            "text/plain": [
              "False"
            ]
          },
          "metadata": {},
          "execution_count": 17
        }
      ],
      "source": [
        "df.duplicated().any()"
      ]
    },
    {
      "cell_type": "code",
      "execution_count": 18,
      "metadata": {
        "id": "ueXIJh8U9Kof"
      },
      "outputs": [],
      "source": [
        "#replacing the null values with zero\n",
        "replace_nan(df,'waterfront', 0)"
      ]
    },
    {
      "cell_type": "code",
      "execution_count": 19,
      "metadata": {
        "id": "uqeUCVVv9Kog"
      },
      "outputs": [],
      "source": [
        "#replacing the null values with zero\n",
        "replace_nan(df,'view', 0)"
      ]
    },
    {
      "cell_type": "code",
      "execution_count": 20,
      "metadata": {
        "id": "Hp3556_t9Kog"
      },
      "outputs": [],
      "source": [
        "df['yr_renovated'].fillna(df['yr_built'], inplace=True)"
      ]
    },
    {
      "cell_type": "code",
      "execution_count": 21,
      "metadata": {
        "colab": {
          "base_uri": "https://localhost:8080/"
        },
        "id": "DwWyTmum9Kog",
        "outputId": "4e1c60ad-2328-4767-fbc3-c3c805688993"
      },
      "outputs": [
        {
          "output_type": "execute_result",
          "data": {
            "text/plain": [
              "id               0\n",
              "date             0\n",
              "price            0\n",
              "bedrooms         0\n",
              "bathrooms        0\n",
              "sqft_living      0\n",
              "sqft_lot         0\n",
              "floors           0\n",
              "waterfront       0\n",
              "view             0\n",
              "condition        0\n",
              "grade            0\n",
              "sqft_above       0\n",
              "sqft_basement    0\n",
              "yr_built         0\n",
              "yr_renovated     0\n",
              "zipcode          0\n",
              "lat              0\n",
              "long             0\n",
              "sqft_living15    0\n",
              "sqft_lot15       0\n",
              "dtype: int64"
            ]
          },
          "metadata": {},
          "execution_count": 21
        }
      ],
      "source": [
        "check_null(df)"
      ]
    },
    {
      "cell_type": "markdown",
      "metadata": {
        "id": "zQKpECA49Koh"
      },
      "source": [
        "Date has dtype as object therefore we split month and date date to get discrete values"
      ]
    },
    {
      "cell_type": "code",
      "execution_count": 22,
      "metadata": {
        "id": "EUemxjzE9Koh"
      },
      "outputs": [],
      "source": [
        "# function to change data type to datetime\n",
        "def change_to_datetime(df, col):\n",
        "    ''' Changes column to DateTime object'''\n",
        "    df[col] = pd.to_datetime(df[col])\n",
        "    return df.info()"
      ]
    },
    {
      "cell_type": "code",
      "execution_count": 23,
      "metadata": {
        "colab": {
          "base_uri": "https://localhost:8080/"
        },
        "id": "bDHLXkfn9Koi",
        "outputId": "8766b1a5-48fb-43f2-ee51-b54e48551dc7"
      },
      "outputs": [
        {
          "output_type": "stream",
          "name": "stdout",
          "text": [
            "<class 'pandas.core.frame.DataFrame'>\n",
            "RangeIndex: 21597 entries, 0 to 21596\n",
            "Data columns (total 21 columns):\n",
            " #   Column         Non-Null Count  Dtype         \n",
            "---  ------         --------------  -----         \n",
            " 0   id             21597 non-null  int64         \n",
            " 1   date           21597 non-null  datetime64[ns]\n",
            " 2   price          21597 non-null  float64       \n",
            " 3   bedrooms       21597 non-null  int64         \n",
            " 4   bathrooms      21597 non-null  float64       \n",
            " 5   sqft_living    21597 non-null  int64         \n",
            " 6   sqft_lot       21597 non-null  int64         \n",
            " 7   floors         21597 non-null  float64       \n",
            " 8   waterfront     21597 non-null  object        \n",
            " 9   view           21597 non-null  object        \n",
            " 10  condition      21597 non-null  object        \n",
            " 11  grade          21597 non-null  object        \n",
            " 12  sqft_above     21597 non-null  int64         \n",
            " 13  sqft_basement  21597 non-null  object        \n",
            " 14  yr_built       21597 non-null  int64         \n",
            " 15  yr_renovated   21597 non-null  float64       \n",
            " 16  zipcode        21597 non-null  int64         \n",
            " 17  lat            21597 non-null  float64       \n",
            " 18  long           21597 non-null  float64       \n",
            " 19  sqft_living15  21597 non-null  int64         \n",
            " 20  sqft_lot15     21597 non-null  int64         \n",
            "dtypes: datetime64[ns](1), float64(6), int64(9), object(5)\n",
            "memory usage: 3.5+ MB\n"
          ]
        }
      ],
      "source": [
        "change_to_datetime(df, 'date')"
      ]
    },
    {
      "cell_type": "code",
      "execution_count": 24,
      "metadata": {
        "colab": {
          "base_uri": "https://localhost:8080/",
          "height": 584
        },
        "id": "FZeNATaR9Koi",
        "outputId": "ffc6c6d2-9a8f-4ca4-d9b9-18af45d03c2d"
      },
      "outputs": [
        {
          "output_type": "execute_result",
          "data": {
            "text/plain": [
              "                     id     price  bedrooms  bathrooms  sqft_living  sqft_lot  \\\n",
              "id             1.000000  0.016772  0.001150   0.005162     0.012241  0.131911   \n",
              "price          0.016772  1.000000  0.308787   0.525906     0.701917  0.089876   \n",
              "bedrooms       0.001150  0.308787  1.000000   0.514508     0.578212  0.032471   \n",
              "bathrooms      0.005162  0.525906  0.514508   1.000000     0.755758  0.088373   \n",
              "sqft_living    0.012241  0.701917  0.578212   0.755758     1.000000  0.173453   \n",
              "sqft_lot       0.131911  0.089876  0.032471   0.088373     0.173453  1.000000   \n",
              "floors         0.018608  0.256804  0.177944   0.502582     0.353953  0.004814   \n",
              "sqft_above     0.010799  0.605368  0.479386   0.686668     0.876448  0.184139   \n",
              "yr_built       0.021617  0.053953  0.155670   0.507173     0.318152  0.052946   \n",
              "yr_renovated   0.010612  0.117855  0.017900   0.047177     0.051060  0.004979   \n",
              "zipcode        0.008211  0.053402  0.154092   0.204786     0.199802  0.129586   \n",
              "lat            0.001798  0.306692  0.009951   0.024280     0.052155  0.085514   \n",
              "long           0.020672  0.022036  0.132054   0.224903     0.241214  0.230227   \n",
              "sqft_living15  0.002701  0.585241  0.393406   0.569884     0.756402  0.144763   \n",
              "sqft_lot15     0.138557  0.082845  0.030690   0.088303     0.184342  0.718204   \n",
              "\n",
              "                 floors  sqft_above  yr_built  yr_renovated   zipcode  \\\n",
              "id             0.018608    0.010799  0.021617      0.010612  0.008211   \n",
              "price          0.256804    0.605368  0.053953      0.117855  0.053402   \n",
              "bedrooms       0.177944    0.479386  0.155670      0.017900  0.154092   \n",
              "bathrooms      0.502582    0.686668  0.507173      0.047177  0.204786   \n",
              "sqft_living    0.353953    0.876448  0.318152      0.051060  0.199802   \n",
              "sqft_lot       0.004814    0.184139  0.052946      0.004979  0.129586   \n",
              "floors         1.000000    0.523989  0.489193      0.003793  0.059541   \n",
              "sqft_above     0.523989    1.000000  0.424037      0.020645  0.261570   \n",
              "yr_built       0.489193    0.424037  1.000000      0.202555  0.347210   \n",
              "yr_renovated   0.003793    0.020645  0.202555      1.000000  0.062397   \n",
              "zipcode        0.059541    0.261570  0.347210      0.062397  1.000000   \n",
              "lat            0.049239    0.001199  0.148370      0.027970  0.266742   \n",
              "long           0.125943    0.344842  0.409993      0.064543  0.564259   \n",
              "sqft_living15  0.280102    0.731767  0.326377      0.000683  0.279299   \n",
              "sqft_lot15     0.010722    0.195077  0.070777      0.004286  0.147294   \n",
              "\n",
              "                    lat      long  sqft_living15  sqft_lot15  \n",
              "id             0.001798  0.020672       0.002701    0.138557  \n",
              "price          0.306692  0.022036       0.585241    0.082845  \n",
              "bedrooms       0.009951  0.132054       0.393406    0.030690  \n",
              "bathrooms      0.024280  0.224903       0.569884    0.088303  \n",
              "sqft_living    0.052155  0.241214       0.756402    0.184342  \n",
              "sqft_lot       0.085514  0.230227       0.144763    0.718204  \n",
              "floors         0.049239  0.125943       0.280102    0.010722  \n",
              "sqft_above     0.001199  0.344842       0.731767    0.195077  \n",
              "yr_built       0.148370  0.409993       0.326377    0.070777  \n",
              "yr_renovated   0.027970  0.064543       0.000683    0.004286  \n",
              "zipcode        0.266742  0.564259       0.279299    0.147294  \n",
              "lat            1.000000  0.135371       0.048679    0.086139  \n",
              "long           0.135371  1.000000       0.335626    0.255586  \n",
              "sqft_living15  0.048679  0.335626       1.000000    0.183515  \n",
              "sqft_lot15     0.086139  0.255586       0.183515    1.000000  "
            ],
            "text/html": [
              "\n",
              "  <div id=\"df-f238c5ab-b4fd-4288-b437-c265005d7f29\">\n",
              "    <div class=\"colab-df-container\">\n",
              "      <div>\n",
              "<style scoped>\n",
              "    .dataframe tbody tr th:only-of-type {\n",
              "        vertical-align: middle;\n",
              "    }\n",
              "\n",
              "    .dataframe tbody tr th {\n",
              "        vertical-align: top;\n",
              "    }\n",
              "\n",
              "    .dataframe thead th {\n",
              "        text-align: right;\n",
              "    }\n",
              "</style>\n",
              "<table border=\"1\" class=\"dataframe\">\n",
              "  <thead>\n",
              "    <tr style=\"text-align: right;\">\n",
              "      <th></th>\n",
              "      <th>id</th>\n",
              "      <th>price</th>\n",
              "      <th>bedrooms</th>\n",
              "      <th>bathrooms</th>\n",
              "      <th>sqft_living</th>\n",
              "      <th>sqft_lot</th>\n",
              "      <th>floors</th>\n",
              "      <th>sqft_above</th>\n",
              "      <th>yr_built</th>\n",
              "      <th>yr_renovated</th>\n",
              "      <th>zipcode</th>\n",
              "      <th>lat</th>\n",
              "      <th>long</th>\n",
              "      <th>sqft_living15</th>\n",
              "      <th>sqft_lot15</th>\n",
              "    </tr>\n",
              "  </thead>\n",
              "  <tbody>\n",
              "    <tr>\n",
              "      <th>id</th>\n",
              "      <td>1.000000</td>\n",
              "      <td>0.016772</td>\n",
              "      <td>0.001150</td>\n",
              "      <td>0.005162</td>\n",
              "      <td>0.012241</td>\n",
              "      <td>0.131911</td>\n",
              "      <td>0.018608</td>\n",
              "      <td>0.010799</td>\n",
              "      <td>0.021617</td>\n",
              "      <td>0.010612</td>\n",
              "      <td>0.008211</td>\n",
              "      <td>0.001798</td>\n",
              "      <td>0.020672</td>\n",
              "      <td>0.002701</td>\n",
              "      <td>0.138557</td>\n",
              "    </tr>\n",
              "    <tr>\n",
              "      <th>price</th>\n",
              "      <td>0.016772</td>\n",
              "      <td>1.000000</td>\n",
              "      <td>0.308787</td>\n",
              "      <td>0.525906</td>\n",
              "      <td>0.701917</td>\n",
              "      <td>0.089876</td>\n",
              "      <td>0.256804</td>\n",
              "      <td>0.605368</td>\n",
              "      <td>0.053953</td>\n",
              "      <td>0.117855</td>\n",
              "      <td>0.053402</td>\n",
              "      <td>0.306692</td>\n",
              "      <td>0.022036</td>\n",
              "      <td>0.585241</td>\n",
              "      <td>0.082845</td>\n",
              "    </tr>\n",
              "    <tr>\n",
              "      <th>bedrooms</th>\n",
              "      <td>0.001150</td>\n",
              "      <td>0.308787</td>\n",
              "      <td>1.000000</td>\n",
              "      <td>0.514508</td>\n",
              "      <td>0.578212</td>\n",
              "      <td>0.032471</td>\n",
              "      <td>0.177944</td>\n",
              "      <td>0.479386</td>\n",
              "      <td>0.155670</td>\n",
              "      <td>0.017900</td>\n",
              "      <td>0.154092</td>\n",
              "      <td>0.009951</td>\n",
              "      <td>0.132054</td>\n",
              "      <td>0.393406</td>\n",
              "      <td>0.030690</td>\n",
              "    </tr>\n",
              "    <tr>\n",
              "      <th>bathrooms</th>\n",
              "      <td>0.005162</td>\n",
              "      <td>0.525906</td>\n",
              "      <td>0.514508</td>\n",
              "      <td>1.000000</td>\n",
              "      <td>0.755758</td>\n",
              "      <td>0.088373</td>\n",
              "      <td>0.502582</td>\n",
              "      <td>0.686668</td>\n",
              "      <td>0.507173</td>\n",
              "      <td>0.047177</td>\n",
              "      <td>0.204786</td>\n",
              "      <td>0.024280</td>\n",
              "      <td>0.224903</td>\n",
              "      <td>0.569884</td>\n",
              "      <td>0.088303</td>\n",
              "    </tr>\n",
              "    <tr>\n",
              "      <th>sqft_living</th>\n",
              "      <td>0.012241</td>\n",
              "      <td>0.701917</td>\n",
              "      <td>0.578212</td>\n",
              "      <td>0.755758</td>\n",
              "      <td>1.000000</td>\n",
              "      <td>0.173453</td>\n",
              "      <td>0.353953</td>\n",
              "      <td>0.876448</td>\n",
              "      <td>0.318152</td>\n",
              "      <td>0.051060</td>\n",
              "      <td>0.199802</td>\n",
              "      <td>0.052155</td>\n",
              "      <td>0.241214</td>\n",
              "      <td>0.756402</td>\n",
              "      <td>0.184342</td>\n",
              "    </tr>\n",
              "    <tr>\n",
              "      <th>sqft_lot</th>\n",
              "      <td>0.131911</td>\n",
              "      <td>0.089876</td>\n",
              "      <td>0.032471</td>\n",
              "      <td>0.088373</td>\n",
              "      <td>0.173453</td>\n",
              "      <td>1.000000</td>\n",
              "      <td>0.004814</td>\n",
              "      <td>0.184139</td>\n",
              "      <td>0.052946</td>\n",
              "      <td>0.004979</td>\n",
              "      <td>0.129586</td>\n",
              "      <td>0.085514</td>\n",
              "      <td>0.230227</td>\n",
              "      <td>0.144763</td>\n",
              "      <td>0.718204</td>\n",
              "    </tr>\n",
              "    <tr>\n",
              "      <th>floors</th>\n",
              "      <td>0.018608</td>\n",
              "      <td>0.256804</td>\n",
              "      <td>0.177944</td>\n",
              "      <td>0.502582</td>\n",
              "      <td>0.353953</td>\n",
              "      <td>0.004814</td>\n",
              "      <td>1.000000</td>\n",
              "      <td>0.523989</td>\n",
              "      <td>0.489193</td>\n",
              "      <td>0.003793</td>\n",
              "      <td>0.059541</td>\n",
              "      <td>0.049239</td>\n",
              "      <td>0.125943</td>\n",
              "      <td>0.280102</td>\n",
              "      <td>0.010722</td>\n",
              "    </tr>\n",
              "    <tr>\n",
              "      <th>sqft_above</th>\n",
              "      <td>0.010799</td>\n",
              "      <td>0.605368</td>\n",
              "      <td>0.479386</td>\n",
              "      <td>0.686668</td>\n",
              "      <td>0.876448</td>\n",
              "      <td>0.184139</td>\n",
              "      <td>0.523989</td>\n",
              "      <td>1.000000</td>\n",
              "      <td>0.424037</td>\n",
              "      <td>0.020645</td>\n",
              "      <td>0.261570</td>\n",
              "      <td>0.001199</td>\n",
              "      <td>0.344842</td>\n",
              "      <td>0.731767</td>\n",
              "      <td>0.195077</td>\n",
              "    </tr>\n",
              "    <tr>\n",
              "      <th>yr_built</th>\n",
              "      <td>0.021617</td>\n",
              "      <td>0.053953</td>\n",
              "      <td>0.155670</td>\n",
              "      <td>0.507173</td>\n",
              "      <td>0.318152</td>\n",
              "      <td>0.052946</td>\n",
              "      <td>0.489193</td>\n",
              "      <td>0.424037</td>\n",
              "      <td>1.000000</td>\n",
              "      <td>0.202555</td>\n",
              "      <td>0.347210</td>\n",
              "      <td>0.148370</td>\n",
              "      <td>0.409993</td>\n",
              "      <td>0.326377</td>\n",
              "      <td>0.070777</td>\n",
              "    </tr>\n",
              "    <tr>\n",
              "      <th>yr_renovated</th>\n",
              "      <td>0.010612</td>\n",
              "      <td>0.117855</td>\n",
              "      <td>0.017900</td>\n",
              "      <td>0.047177</td>\n",
              "      <td>0.051060</td>\n",
              "      <td>0.004979</td>\n",
              "      <td>0.003793</td>\n",
              "      <td>0.020645</td>\n",
              "      <td>0.202555</td>\n",
              "      <td>1.000000</td>\n",
              "      <td>0.062397</td>\n",
              "      <td>0.027970</td>\n",
              "      <td>0.064543</td>\n",
              "      <td>0.000683</td>\n",
              "      <td>0.004286</td>\n",
              "    </tr>\n",
              "    <tr>\n",
              "      <th>zipcode</th>\n",
              "      <td>0.008211</td>\n",
              "      <td>0.053402</td>\n",
              "      <td>0.154092</td>\n",
              "      <td>0.204786</td>\n",
              "      <td>0.199802</td>\n",
              "      <td>0.129586</td>\n",
              "      <td>0.059541</td>\n",
              "      <td>0.261570</td>\n",
              "      <td>0.347210</td>\n",
              "      <td>0.062397</td>\n",
              "      <td>1.000000</td>\n",
              "      <td>0.266742</td>\n",
              "      <td>0.564259</td>\n",
              "      <td>0.279299</td>\n",
              "      <td>0.147294</td>\n",
              "    </tr>\n",
              "    <tr>\n",
              "      <th>lat</th>\n",
              "      <td>0.001798</td>\n",
              "      <td>0.306692</td>\n",
              "      <td>0.009951</td>\n",
              "      <td>0.024280</td>\n",
              "      <td>0.052155</td>\n",
              "      <td>0.085514</td>\n",
              "      <td>0.049239</td>\n",
              "      <td>0.001199</td>\n",
              "      <td>0.148370</td>\n",
              "      <td>0.027970</td>\n",
              "      <td>0.266742</td>\n",
              "      <td>1.000000</td>\n",
              "      <td>0.135371</td>\n",
              "      <td>0.048679</td>\n",
              "      <td>0.086139</td>\n",
              "    </tr>\n",
              "    <tr>\n",
              "      <th>long</th>\n",
              "      <td>0.020672</td>\n",
              "      <td>0.022036</td>\n",
              "      <td>0.132054</td>\n",
              "      <td>0.224903</td>\n",
              "      <td>0.241214</td>\n",
              "      <td>0.230227</td>\n",
              "      <td>0.125943</td>\n",
              "      <td>0.344842</td>\n",
              "      <td>0.409993</td>\n",
              "      <td>0.064543</td>\n",
              "      <td>0.564259</td>\n",
              "      <td>0.135371</td>\n",
              "      <td>1.000000</td>\n",
              "      <td>0.335626</td>\n",
              "      <td>0.255586</td>\n",
              "    </tr>\n",
              "    <tr>\n",
              "      <th>sqft_living15</th>\n",
              "      <td>0.002701</td>\n",
              "      <td>0.585241</td>\n",
              "      <td>0.393406</td>\n",
              "      <td>0.569884</td>\n",
              "      <td>0.756402</td>\n",
              "      <td>0.144763</td>\n",
              "      <td>0.280102</td>\n",
              "      <td>0.731767</td>\n",
              "      <td>0.326377</td>\n",
              "      <td>0.000683</td>\n",
              "      <td>0.279299</td>\n",
              "      <td>0.048679</td>\n",
              "      <td>0.335626</td>\n",
              "      <td>1.000000</td>\n",
              "      <td>0.183515</td>\n",
              "    </tr>\n",
              "    <tr>\n",
              "      <th>sqft_lot15</th>\n",
              "      <td>0.138557</td>\n",
              "      <td>0.082845</td>\n",
              "      <td>0.030690</td>\n",
              "      <td>0.088303</td>\n",
              "      <td>0.184342</td>\n",
              "      <td>0.718204</td>\n",
              "      <td>0.010722</td>\n",
              "      <td>0.195077</td>\n",
              "      <td>0.070777</td>\n",
              "      <td>0.004286</td>\n",
              "      <td>0.147294</td>\n",
              "      <td>0.086139</td>\n",
              "      <td>0.255586</td>\n",
              "      <td>0.183515</td>\n",
              "      <td>1.000000</td>\n",
              "    </tr>\n",
              "  </tbody>\n",
              "</table>\n",
              "</div>\n",
              "      <button class=\"colab-df-convert\" onclick=\"convertToInteractive('df-f238c5ab-b4fd-4288-b437-c265005d7f29')\"\n",
              "              title=\"Convert this dataframe to an interactive table.\"\n",
              "              style=\"display:none;\">\n",
              "        \n",
              "  <svg xmlns=\"http://www.w3.org/2000/svg\" height=\"24px\"viewBox=\"0 0 24 24\"\n",
              "       width=\"24px\">\n",
              "    <path d=\"M0 0h24v24H0V0z\" fill=\"none\"/>\n",
              "    <path d=\"M18.56 5.44l.94 2.06.94-2.06 2.06-.94-2.06-.94-.94-2.06-.94 2.06-2.06.94zm-11 1L8.5 8.5l.94-2.06 2.06-.94-2.06-.94L8.5 2.5l-.94 2.06-2.06.94zm10 10l.94 2.06.94-2.06 2.06-.94-2.06-.94-.94-2.06-.94 2.06-2.06.94z\"/><path d=\"M17.41 7.96l-1.37-1.37c-.4-.4-.92-.59-1.43-.59-.52 0-1.04.2-1.43.59L10.3 9.45l-7.72 7.72c-.78.78-.78 2.05 0 2.83L4 21.41c.39.39.9.59 1.41.59.51 0 1.02-.2 1.41-.59l7.78-7.78 2.81-2.81c.8-.78.8-2.07 0-2.86zM5.41 20L4 18.59l7.72-7.72 1.47 1.35L5.41 20z\"/>\n",
              "  </svg>\n",
              "      </button>\n",
              "      \n",
              "  <style>\n",
              "    .colab-df-container {\n",
              "      display:flex;\n",
              "      flex-wrap:wrap;\n",
              "      gap: 12px;\n",
              "    }\n",
              "\n",
              "    .colab-df-convert {\n",
              "      background-color: #E8F0FE;\n",
              "      border: none;\n",
              "      border-radius: 50%;\n",
              "      cursor: pointer;\n",
              "      display: none;\n",
              "      fill: #1967D2;\n",
              "      height: 32px;\n",
              "      padding: 0 0 0 0;\n",
              "      width: 32px;\n",
              "    }\n",
              "\n",
              "    .colab-df-convert:hover {\n",
              "      background-color: #E2EBFA;\n",
              "      box-shadow: 0px 1px 2px rgba(60, 64, 67, 0.3), 0px 1px 3px 1px rgba(60, 64, 67, 0.15);\n",
              "      fill: #174EA6;\n",
              "    }\n",
              "\n",
              "    [theme=dark] .colab-df-convert {\n",
              "      background-color: #3B4455;\n",
              "      fill: #D2E3FC;\n",
              "    }\n",
              "\n",
              "    [theme=dark] .colab-df-convert:hover {\n",
              "      background-color: #434B5C;\n",
              "      box-shadow: 0px 1px 3px 1px rgba(0, 0, 0, 0.15);\n",
              "      filter: drop-shadow(0px 1px 2px rgba(0, 0, 0, 0.3));\n",
              "      fill: #FFFFFF;\n",
              "    }\n",
              "  </style>\n",
              "\n",
              "      <script>\n",
              "        const buttonEl =\n",
              "          document.querySelector('#df-f238c5ab-b4fd-4288-b437-c265005d7f29 button.colab-df-convert');\n",
              "        buttonEl.style.display =\n",
              "          google.colab.kernel.accessAllowed ? 'block' : 'none';\n",
              "\n",
              "        async function convertToInteractive(key) {\n",
              "          const element = document.querySelector('#df-f238c5ab-b4fd-4288-b437-c265005d7f29');\n",
              "          const dataTable =\n",
              "            await google.colab.kernel.invokeFunction('convertToInteractive',\n",
              "                                                     [key], {});\n",
              "          if (!dataTable) return;\n",
              "\n",
              "          const docLinkHtml = 'Like what you see? Visit the ' +\n",
              "            '<a target=\"_blank\" href=https://colab.research.google.com/notebooks/data_table.ipynb>data table notebook</a>'\n",
              "            + ' to learn more about interactive tables.';\n",
              "          element.innerHTML = '';\n",
              "          dataTable['output_type'] = 'display_data';\n",
              "          await google.colab.output.renderOutput(dataTable, element);\n",
              "          const docLink = document.createElement('div');\n",
              "          docLink.innerHTML = docLinkHtml;\n",
              "          element.appendChild(docLink);\n",
              "        }\n",
              "      </script>\n",
              "    </div>\n",
              "  </div>\n",
              "  "
            ]
          },
          "metadata": {},
          "execution_count": 24
        }
      ],
      "source": [
        "df.corr().abs()"
      ]
    },
    {
      "cell_type": "code",
      "execution_count": 25,
      "metadata": {
        "id": "WAG7HXLi9Koi"
      },
      "outputs": [],
      "source": [
        "df.drop(['id','date'], axis=1, inplace=True )"
      ]
    },
    {
      "cell_type": "code",
      "execution_count": 26,
      "metadata": {
        "colab": {
          "base_uri": "https://localhost:8080/"
        },
        "id": "NbAhtOOm9Koj",
        "outputId": "daa5e37c-3b1e-430d-a62e-cc062e1ce78b"
      },
      "outputs": [
        {
          "output_type": "execute_result",
          "data": {
            "text/plain": [
              "price            1.000000\n",
              "bedrooms         0.308787\n",
              "bathrooms        0.525906\n",
              "sqft_living      0.701917\n",
              "sqft_lot         0.089876\n",
              "floors           0.256804\n",
              "sqft_above       0.605368\n",
              "yr_built         0.053953\n",
              "yr_renovated     0.117855\n",
              "zipcode          0.053402\n",
              "lat              0.306692\n",
              "long             0.022036\n",
              "sqft_living15    0.585241\n",
              "sqft_lot15       0.082845\n",
              "Name: price, dtype: float64"
            ]
          },
          "metadata": {},
          "execution_count": 26
        }
      ],
      "source": [
        "df.corr()['price'].abs()"
      ]
    },
    {
      "cell_type": "code",
      "execution_count": 27,
      "metadata": {
        "colab": {
          "base_uri": "https://localhost:8080/"
        },
        "id": "mHJgYVev9Koj",
        "outputId": "0283e980-3d43-4b1f-effb-4050578c84c0"
      },
      "outputs": [
        {
          "output_type": "execute_result",
          "data": {
            "text/plain": [
              "0        1\n",
              "1        3\n",
              "2        1\n",
              "3        3\n",
              "4        2\n",
              "        ..\n",
              "21592    3\n",
              "21593    3\n",
              "21594    1\n",
              "21595    3\n",
              "21596    1\n",
              "Name: bathrooms, Length: 21597, dtype: int64"
            ]
          },
          "metadata": {},
          "execution_count": 27
        }
      ],
      "source": [
        "df['bathrooms'] = df['bathrooms'].apply(np.ceil).astype(int)\n",
        "df['bathrooms']\n"
      ]
    },
    {
      "cell_type": "code",
      "execution_count": 28,
      "metadata": {
        "colab": {
          "base_uri": "https://localhost:8080/"
        },
        "id": "r8GuWGCm9Koj",
        "outputId": "6c6eae17-d94d-41f8-cb47-61e2ae6a2f0b"
      },
      "outputs": [
        {
          "output_type": "execute_result",
          "data": {
            "text/plain": [
              "NO     19075\n",
              "0       2376\n",
              "YES      146\n",
              "Name: waterfront, dtype: int64"
            ]
          },
          "metadata": {},
          "execution_count": 28
        }
      ],
      "source": [
        "df['waterfront'].value_counts()"
      ]
    },
    {
      "cell_type": "code",
      "execution_count": 29,
      "metadata": {
        "id": "zGEEQiNF9Kok"
      },
      "outputs": [],
      "source": [
        "# function to replace a value with another\n",
        "def substitute(df,col,original_value, sub_value):\n",
        "    return df[col].replace(original_value, sub_value, inplace=True)"
      ]
    },
    {
      "cell_type": "code",
      "execution_count": 30,
      "metadata": {
        "id": "a0v2tkst9Kok"
      },
      "outputs": [],
      "source": [
        "# changing YES to  1\n",
        "substitute(df,'waterfront','YES',1)\n",
        "\n",
        "# changing NO to  0\n",
        "substitute(df, 'waterfront', 'NO', 0)"
      ]
    },
    {
      "cell_type": "code",
      "execution_count": 31,
      "metadata": {
        "colab": {
          "base_uri": "https://localhost:8080/"
        },
        "id": "-PcWxVcc9Kok",
        "outputId": "234c1d67-3efa-4e2a-e8ad-ea3f6d34cd5d"
      },
      "outputs": [
        {
          "output_type": "stream",
          "name": "stdout",
          "text": [
            "<class 'pandas.core.frame.DataFrame'>\n",
            "RangeIndex: 21597 entries, 0 to 21596\n",
            "Data columns (total 19 columns):\n",
            " #   Column         Non-Null Count  Dtype  \n",
            "---  ------         --------------  -----  \n",
            " 0   price          21597 non-null  float64\n",
            " 1   bedrooms       21597 non-null  int64  \n",
            " 2   bathrooms      21597 non-null  int64  \n",
            " 3   sqft_living    21597 non-null  int64  \n",
            " 4   sqft_lot       21597 non-null  int64  \n",
            " 5   floors         21597 non-null  float64\n",
            " 6   waterfront     21597 non-null  int64  \n",
            " 7   view           21597 non-null  object \n",
            " 8   condition      21597 non-null  object \n",
            " 9   grade          21597 non-null  object \n",
            " 10  sqft_above     21597 non-null  int64  \n",
            " 11  sqft_basement  21597 non-null  object \n",
            " 12  yr_built       21597 non-null  int64  \n",
            " 13  yr_renovated   21597 non-null  float64\n",
            " 14  zipcode        21597 non-null  int64  \n",
            " 15  lat            21597 non-null  float64\n",
            " 16  long           21597 non-null  float64\n",
            " 17  sqft_living15  21597 non-null  int64  \n",
            " 18  sqft_lot15     21597 non-null  int64  \n",
            "dtypes: float64(5), int64(10), object(4)\n",
            "memory usage: 3.1+ MB\n"
          ]
        }
      ],
      "source": [
        "df.info()"
      ]
    },
    {
      "cell_type": "code",
      "execution_count": 32,
      "metadata": {
        "colab": {
          "base_uri": "https://localhost:8080/"
        },
        "id": "arNil0649Kol",
        "outputId": "0f462b87-609f-4a9d-acbf-94a10e14adcb"
      },
      "outputs": [
        {
          "output_type": "execute_result",
          "data": {
            "text/plain": [
              "NONE         19422\n",
              "AVERAGE        957\n",
              "GOOD           508\n",
              "FAIR           330\n",
              "EXCELLENT      317\n",
              "0               63\n",
              "Name: view, dtype: int64"
            ]
          },
          "metadata": {},
          "execution_count": 32
        }
      ],
      "source": [
        "df['view'].value_counts()"
      ]
    },
    {
      "cell_type": "code",
      "execution_count": 33,
      "metadata": {
        "id": "lqRcMdyl9Kol"
      },
      "outputs": [],
      "source": [
        "substitute(df,'view',['NONE','FAIR','AVERAGE','GOOD','EXCELLENT'],[0,1,2,3,4])\n"
      ]
    },
    {
      "cell_type": "code",
      "execution_count": 34,
      "metadata": {
        "colab": {
          "base_uri": "https://localhost:8080/"
        },
        "id": "kCS52pyJ9Kom",
        "outputId": "7957f779-9ce4-4677-8efe-6421e943ae5f"
      },
      "outputs": [
        {
          "output_type": "execute_result",
          "data": {
            "text/plain": [
              "Average      14020\n",
              "Good          5677\n",
              "Very Good     1701\n",
              "Fair           170\n",
              "Poor            29\n",
              "Name: condition, dtype: int64"
            ]
          },
          "metadata": {},
          "execution_count": 34
        }
      ],
      "source": [
        "df['condition'].value_counts()"
      ]
    },
    {
      "cell_type": "code",
      "execution_count": 35,
      "metadata": {
        "id": "cnV8-ej-9Kom"
      },
      "outputs": [],
      "source": [
        "substitute(df,'condition',['Poor','Fair','Average','Good','Very Good'],[1,2,3,4,5])"
      ]
    },
    {
      "cell_type": "code",
      "execution_count": 36,
      "metadata": {
        "colab": {
          "base_uri": "https://localhost:8080/"
        },
        "id": "UPSFVYgE9Kon",
        "outputId": "31954bdd-2a87-45b1-af18-56d8a5582f2a"
      },
      "outputs": [
        {
          "output_type": "execute_result",
          "data": {
            "text/plain": [
              "0            7 Average\n",
              "1            7 Average\n",
              "2        6 Low Average\n",
              "3            7 Average\n",
              "4               8 Good\n",
              "             ...      \n",
              "21592           8 Good\n",
              "21593           8 Good\n",
              "21594        7 Average\n",
              "21595           8 Good\n",
              "21596        7 Average\n",
              "Name: grade, Length: 21597, dtype: object"
            ]
          },
          "metadata": {},
          "execution_count": 36
        }
      ],
      "source": [
        "df['grade']"
      ]
    },
    {
      "cell_type": "code",
      "execution_count": 37,
      "metadata": {
        "id": "hE3j3qjW9Kon"
      },
      "outputs": [],
      "source": [
        "substitute(df,'grade',['7 Average','8 Good','9 Better','6 Low Average','10 Very Good','11 Excellent',\n",
        "                      '5 Fair','12 Luxury','4 Low','13 Mansion','3 Poor'], [7,8,9,6,10,11,5,12,4,13,3])"
      ]
    },
    {
      "cell_type": "code",
      "execution_count": 38,
      "metadata": {
        "id": "wL8n_VNo9Kon"
      },
      "outputs": [],
      "source": [
        "substitute(df, 'sqft_basement', '?', 0.0)\n",
        "df['sqft_basement'] = df['sqft_basement'].astype(float)"
      ]
    },
    {
      "cell_type": "code",
      "execution_count": 41,
      "metadata": {
        "colab": {
          "base_uri": "https://localhost:8080/",
          "height": 217
        },
        "id": "aT1x7_Py9Kon",
        "outputId": "c4a0e0bd-3283-49c4-e688-f3a78036b3c9"
      },
      "outputs": [
        {
          "output_type": "error",
          "ename": "NameError",
          "evalue": "ignored",
          "traceback": [
            "\u001b[0;31m---------------------------------------------------------------------------\u001b[0m",
            "\u001b[0;31mNameError\u001b[0m                                 Traceback (most recent call last)",
            "\u001b[0;32m<ipython-input-41-e7edca832aa9>\u001b[0m in \u001b[0;36m<cell line: 2>\u001b[0;34m()\u001b[0m\n\u001b[1;32m      1\u001b[0m \u001b[0;31m#q1 - (1.5 * iqr * (len(df[col])/(len(df[col]) + 1)))\u001b[0m\u001b[0;34m\u001b[0m\u001b[0;34m\u001b[0m\u001b[0m\n\u001b[0;32m----> 2\u001b[0;31m \u001b[0mq1\u001b[0m \u001b[0;34m=\u001b[0m \u001b[0mnp\u001b[0m\u001b[0;34m.\u001b[0m\u001b[0mpercentile\u001b[0m\u001b[0;34m(\u001b[0m\u001b[0mdf\u001b[0m\u001b[0;34m[\u001b[0m\u001b[0mcol\u001b[0m\u001b[0;34m]\u001b[0m\u001b[0;34m,\u001b[0m \u001b[0;36m25\u001b[0m\u001b[0;34m)\u001b[0m\u001b[0;34m\u001b[0m\u001b[0;34m\u001b[0m\u001b[0m\n\u001b[0m\u001b[1;32m      3\u001b[0m \u001b[0;34m\u001b[0m\u001b[0m\n\u001b[1;32m      4\u001b[0m \u001b[0;34m\u001b[0m\u001b[0m\n",
            "\u001b[0;31mNameError\u001b[0m: name 'col' is not defined"
          ]
        }
      ],
      "source": [
        "#q1 - (1.5 * iqr * (len(df[col])/(len(df[col]) + 1)))\n",
        "q1 = np.percentile(df[col], 25)\n",
        "\n",
        "\n"
      ]
    },
    {
      "cell_type": "code",
      "execution_count": 42,
      "metadata": {
        "colab": {
          "base_uri": "https://localhost:8080/"
        },
        "id": "EvP25O_o9Koo",
        "outputId": "8b65550d-6cb9-4949-e852-869624b1df36"
      },
      "outputs": [
        {
          "output_type": "stream",
          "name": "stdout",
          "text": [
            "<class 'pandas.core.frame.DataFrame'>\n",
            "RangeIndex: 21597 entries, 0 to 21596\n",
            "Data columns (total 19 columns):\n",
            " #   Column         Non-Null Count  Dtype  \n",
            "---  ------         --------------  -----  \n",
            " 0   price          21597 non-null  float64\n",
            " 1   bedrooms       21597 non-null  int64  \n",
            " 2   bathrooms      21597 non-null  int64  \n",
            " 3   sqft_living    21597 non-null  int64  \n",
            " 4   sqft_lot       21597 non-null  int64  \n",
            " 5   floors         21597 non-null  float64\n",
            " 6   waterfront     21597 non-null  int64  \n",
            " 7   view           21597 non-null  int64  \n",
            " 8   condition      21597 non-null  int64  \n",
            " 9   grade          21597 non-null  int64  \n",
            " 10  sqft_above     21597 non-null  int64  \n",
            " 11  sqft_basement  21597 non-null  float64\n",
            " 12  yr_built       21597 non-null  int64  \n",
            " 13  yr_renovated   21597 non-null  float64\n",
            " 14  zipcode        21597 non-null  int64  \n",
            " 15  lat            21597 non-null  float64\n",
            " 16  long           21597 non-null  float64\n",
            " 17  sqft_living15  21597 non-null  int64  \n",
            " 18  sqft_lot15     21597 non-null  int64  \n",
            "dtypes: float64(6), int64(13)\n",
            "memory usage: 3.1 MB\n"
          ]
        }
      ],
      "source": [
        "df.info()"
      ]
    },
    {
      "cell_type": "code",
      "execution_count": 43,
      "metadata": {
        "id": "8lGD8wz09Koo"
      },
      "outputs": [],
      "source": [
        "X = df[['sqft_living']]\n",
        "y = df['price']"
      ]
    },
    {
      "cell_type": "code",
      "execution_count": 44,
      "metadata": {
        "colab": {
          "base_uri": "https://localhost:8080/"
        },
        "id": "vtPlF3w29Koo",
        "outputId": "13788258-2ba5-46dc-b9b4-e6b2e313b81d"
      },
      "outputs": [
        {
          "output_type": "stream",
          "name": "stdout",
          "text": [
            "                            OLS Regression Results                            \n",
            "==============================================================================\n",
            "Dep. Variable:                  price   R-squared:                       0.493\n",
            "Model:                            OLS   Adj. R-squared:                  0.493\n",
            "Method:                 Least Squares   F-statistic:                 2.097e+04\n",
            "Date:                Wed, 19 Apr 2023   Prob (F-statistic):               0.00\n",
            "Time:                        10:12:59   Log-Likelihood:            -3.0006e+05\n",
            "No. Observations:               21597   AIC:                         6.001e+05\n",
            "Df Residuals:                   21595   BIC:                         6.001e+05\n",
            "Df Model:                           1                                         \n",
            "Covariance Type:            nonrobust                                         \n",
            "===============================================================================\n",
            "                  coef    std err          t      P>|t|      [0.025      0.975]\n",
            "-------------------------------------------------------------------------------\n",
            "const       -4.399e+04   4410.023     -9.975      0.000   -5.26e+04   -3.53e+04\n",
            "sqft_living   280.8630      1.939    144.819      0.000     277.062     284.664\n",
            "==============================================================================\n",
            "Omnibus:                    14801.942   Durbin-Watson:                   1.982\n",
            "Prob(Omnibus):                  0.000   Jarque-Bera (JB):           542662.604\n",
            "Skew:                           2.820   Prob(JB):                         0.00\n",
            "Kurtosis:                      26.901   Cond. No.                     5.63e+03\n",
            "==============================================================================\n",
            "\n",
            "Notes:\n",
            "[1] Standard Errors assume that the covariance matrix of the errors is correctly specified.\n",
            "[2] The condition number is large, 5.63e+03. This might indicate that there are\n",
            "strong multicollinearity or other numerical problems.\n"
          ]
        }
      ],
      "source": [
        "\n",
        "baseline_model = sm.OLS(y, sm.add_constant(X))\n",
        "baseline_results = baseline_model.fit()\n",
        "print(baseline_results.summary())"
      ]
    },
    {
      "cell_type": "code",
      "execution_count": 45,
      "metadata": {
        "id": "knD7S37F9Koo"
      },
      "outputs": [],
      "source": [
        "X_baseline = df.drop(['price'], axis=1)"
      ]
    },
    {
      "cell_type": "code",
      "execution_count": 46,
      "metadata": {
        "colab": {
          "base_uri": "https://localhost:8080/"
        },
        "id": "WsB-KwU19Kop",
        "outputId": "2dea0d50-d791-4f3f-bdae-241ff7bd912e"
      },
      "outputs": [
        {
          "output_type": "stream",
          "name": "stdout",
          "text": [
            "                            OLS Regression Results                            \n",
            "==============================================================================\n",
            "Dep. Variable:                  price   R-squared:                       0.699\n",
            "Model:                            OLS   Adj. R-squared:                  0.698\n",
            "Method:                 Least Squares   F-statistic:                     2778.\n",
            "Date:                Wed, 19 Apr 2023   Prob (F-statistic):               0.00\n",
            "Time:                        10:13:11   Log-Likelihood:            -2.9444e+05\n",
            "No. Observations:               21597   AIC:                         5.889e+05\n",
            "Df Residuals:                   21578   BIC:                         5.891e+05\n",
            "Df Model:                          18                                         \n",
            "Covariance Type:            nonrobust                                         \n",
            "=================================================================================\n",
            "                    coef    std err          t      P>|t|      [0.025      0.975]\n",
            "---------------------------------------------------------------------------------\n",
            "const          5.984e+06   2.94e+06      2.037      0.042    2.25e+05    1.17e+07\n",
            "bedrooms      -3.365e+04   1899.750    -17.711      0.000   -3.74e+04   -2.99e+04\n",
            "bathrooms      1.924e+04   2700.865      7.124      0.000    1.39e+04    2.45e+04\n",
            "sqft_living     115.0041     18.107      6.351      0.000      79.514     150.495\n",
            "sqft_lot          0.1319      0.048      2.744      0.006       0.038       0.226\n",
            "floors         1.113e+04   3659.231      3.043      0.002    3960.944    1.83e+04\n",
            "waterfront     6.174e+05   1.82e+04     33.955      0.000    5.82e+05    6.53e+05\n",
            "view           5.371e+04   2127.187     25.247      0.000    4.95e+04    5.79e+04\n",
            "condition      2.756e+04   2353.663     11.708      0.000    2.29e+04    3.22e+04\n",
            "grade          9.759e+04   2169.436     44.983      0.000    9.33e+04    1.02e+05\n",
            "sqft_above       74.2010     18.119      4.095      0.000      38.687     109.715\n",
            "sqft_basement    46.6828     17.953      2.600      0.009      11.494      81.872\n",
            "yr_built      -2519.3533     72.715    -34.647      0.000   -2661.880   -2376.827\n",
            "yr_renovated     26.7635      3.980      6.725      0.000      18.963      34.564\n",
            "zipcode        -583.4080     33.095    -17.628      0.000    -648.277    -518.539\n",
            "lat            6.022e+05   1.08e+04     55.939      0.000    5.81e+05    6.23e+05\n",
            "long          -2.199e+05   1.32e+04    -16.672      0.000   -2.46e+05   -1.94e+05\n",
            "sqft_living15    20.2111      3.458      5.845      0.000      13.434      26.989\n",
            "sqft_lot15       -0.3988      0.074     -5.423      0.000      -0.543      -0.255\n",
            "==============================================================================\n",
            "Omnibus:                    18414.278   Durbin-Watson:                   1.989\n",
            "Prob(Omnibus):                  0.000   Jarque-Bera (JB):          1862311.779\n",
            "Skew:                           3.582   Prob(JB):                         0.00\n",
            "Kurtosis:                      47.924   Cond. No.                     2.15e+08\n",
            "==============================================================================\n",
            "\n",
            "Notes:\n",
            "[1] Standard Errors assume that the covariance matrix of the errors is correctly specified.\n",
            "[2] The condition number is large, 2.15e+08. This might indicate that there are\n",
            "strong multicollinearity or other numerical problems.\n"
          ]
        }
      ],
      "source": [
        "multiple_model = sm.OLS(y, sm.add_constant(X_baseline))\n",
        "multiple_model_results = multiple_model.fit()\n",
        "print(multiple_model_results.summary())"
      ]
    },
    {
      "cell_type": "code",
      "execution_count": 50,
      "metadata": {
        "colab": {
          "base_uri": "https://localhost:8080/",
          "height": 524
        },
        "id": "s-zM6zjA9Koq",
        "outputId": "2c0608b5-b5a7-4b97-a9dd-d7b2f71b2a70"
      },
      "outputs": [
        {
          "output_type": "display_data",
          "data": {
            "text/plain": [
              "<Figure size 800x550 with 1 Axes>"
            ],
            "image/png": "[encoded data removed]"
          },
          "metadata": {}
        }
      ],
      "source": [
        "# create a scatter plot of price vs sqft_above\n",
        "plt.scatter(df['sqft_living'], df['price'])\n",
        "plt.title('Price vs Sqft Living')\n",
        "plt.xlabel('Sqft Above')\n",
        "plt.ylabel('Price')\n",
        "plt.show()\n"
      ]
    },
    {
      "cell_type": "code",
      "source": [
        "# calculate the correlation coefficient between price and sqft_above\n",
        "corr = np.corrcoef(df['sqft_above'], df['price'])[0,1]\n",
        "print(f\"Correlation coefficient: {corr:.2f}\")\n"
      ],
      "metadata": {
        "colab": {
          "base_uri": "https://localhost:8080/"
        },
        "id": "qfpdFjM_AYEq",
        "outputId": "1de293f0-f6d0-44d6-a338-1c817110a317"
      },
      "execution_count": 48,
      "outputs": [
        {
          "output_type": "stream",
          "name": "stdout",
          "text": [
            "Correlation coefficient: 0.61\n"
          ]
        }
      ]
    },
    {
      "cell_type": "markdown",
      "source": [
        "A correlation coefficient of 0.61 indicates a moderate positive linear relationship between the price and sqft_above variables. This suggests that as the size of the living area above ground increases, the price of the house tends to increase as well\n"
      ],
      "metadata": {
        "id": "Oxaig8vYAnm2"
      }
    },
    {
      "cell_type": "code",
      "source": [
        "# define the dependent and independent variables\n",
        "y = df['price']\n",
        "X = df['sqft_living']\n",
        "\n",
        "# add a constant term to the independent variable\n",
        "X = sm.add_constant(X)\n",
        "\n",
        "# fit the model using ordinary least squares (OLS)\n",
        "model = sm.OLS(y, X).fit()\n",
        "\n",
        "# print the model summary\n",
        "print(model.summary())"
      ],
      "metadata": {
        "colab": {
          "base_uri": "https://localhost:8080/"
        },
        "id": "2ijfh-vYApbV",
        "outputId": "55992ce1-e15a-40c8-bba1-f98a78997afb"
      },
      "execution_count": 51,
      "outputs": [
        {
          "output_type": "stream",
          "name": "stdout",
          "text": [
            "                            OLS Regression Results                            \n",
            "==============================================================================\n",
            "Dep. Variable:                  price   R-squared:                       0.493\n",
            "Model:                            OLS   Adj. R-squared:                  0.493\n",
            "Method:                 Least Squares   F-statistic:                 2.097e+04\n",
            "Date:                Wed, 19 Apr 2023   Prob (F-statistic):               0.00\n",
            "Time:                        10:18:09   Log-Likelihood:            -3.0006e+05\n",
            "No. Observations:               21597   AIC:                         6.001e+05\n",
            "Df Residuals:                   21595   BIC:                         6.001e+05\n",
            "Df Model:                           1                                         \n",
            "Covariance Type:            nonrobust                                         \n",
            "===============================================================================\n",
            "                  coef    std err          t      P>|t|      [0.025      0.975]\n",
            "-------------------------------------------------------------------------------\n",
            "const       -4.399e+04   4410.023     -9.975      0.000   -5.26e+04   -3.53e+04\n",
            "sqft_living   280.8630      1.939    144.819      0.000     277.062     284.664\n",
            "==============================================================================\n",
            "Omnibus:                    14801.942   Durbin-Watson:                   1.982\n",
            "Prob(Omnibus):                  0.000   Jarque-Bera (JB):           542662.604\n",
            "Skew:                           2.820   Prob(JB):                         0.00\n",
            "Kurtosis:                      26.901   Cond. No.                     5.63e+03\n",
            "==============================================================================\n",
            "\n",
            "Notes:\n",
            "[1] Standard Errors assume that the covariance matrix of the errors is correctly specified.\n",
            "[2] The condition number is large, 5.63e+03. This might indicate that there are\n",
            "strong multicollinearity or other numerical problems.\n"
          ]
        }
      ]
    },
    {
      "cell_type": "code",
      "source": [
        "import matplotlib.pyplot as plt\n",
        "\n",
        "plt.scatter(df['yr_built'], df['price'])\n",
        "plt.title('Scatter Plot of Price vs Year Built')\n",
        "plt.xlabel('Year Built')\n",
        "plt.ylabel('Price')\n",
        "plt.show()\n"
      ],
      "metadata": {
        "colab": {
          "base_uri": "https://localhost:8080/",
          "height": 524
        },
        "id": "3pBWe0G7DObj",
        "outputId": "716ecdae-a686-4936-ac5d-4ddd0d62b325"
      },
      "execution_count": 56,
      "outputs": [
        {
          "output_type": "display_data",
          "data": {
            "text/plain": [
              "<Figure size 800x550 with 1 Axes>"
            ],
            "image/png": "[encoded data removed]"
          },
          "metadata": {}
        }
      ]
    },
    {
      "cell_type": "code",
      "source": [
        "from scipy.stats import pearsonr\n",
        "\n",
        "corr_coef, p_value = pearsonr(df['yr_built'], df['price'])\n",
        "print(f\"Correlation coefficient: {corr_coef:.2f}\")\n",
        "print(f\"P-value: {p_value:.2f}\")\n"
      ],
      "metadata": {
        "colab": {
          "base_uri": "https://localhost:8080/"
        },
        "id": "GOelDtGyDn01",
        "outputId": "235853a2-e0cd-42d9-afc9-726cab88cff8"
      },
      "execution_count": 57,
      "outputs": [
        {
          "output_type": "stream",
          "name": "stdout",
          "text": [
            "Correlation coefficient: 0.05\n",
            "P-value: 0.00\n"
          ]
        }
      ]
    },
    {
      "cell_type": "code",
      "source": [
        "import statsmodels.api as sm\n",
        "\n",
        "# Add a constant term to the predictor variable\n",
        "X = sm.add_constant(df['yr_built'])\n",
        "\n",
        "# Fit a simple linear regression model\n",
        "model = sm.OLS(df['price'], X).fit()\n",
        "\n",
        "# Print the model summary\n",
        "print(model.summary())\n",
        "\n"
      ],
      "metadata": {
        "colab": {
          "base_uri": "https://localhost:8080/"
        },
        "id": "HfRFlh_wEX23",
        "outputId": "bae95a3d-afcd-46fb-afca-971133620156"
      },
      "execution_count": 59,
      "outputs": [
        {
          "output_type": "stream",
          "name": "stdout",
          "text": [
            "                            OLS Regression Results                            \n",
            "==============================================================================\n",
            "Dep. Variable:                  price   R-squared:                       0.003\n",
            "Model:                            OLS   Adj. R-squared:                  0.003\n",
            "Method:                 Least Squares   F-statistic:                     63.05\n",
            "Date:                Wed, 19 Apr 2023   Prob (F-statistic):           2.12e-15\n",
            "Time:                        10:40:15   Log-Likelihood:            -3.0736e+05\n",
            "No. Observations:               21597   AIC:                         6.147e+05\n",
            "Df Residuals:                   21595   BIC:                         6.147e+05\n",
            "Df Model:                           1                                         \n",
            "Covariance Type:            nonrobust                                         \n",
            "==============================================================================\n",
            "                 coef    std err          t      P>|t|      [0.025      0.975]\n",
            "------------------------------------------------------------------------------\n",
            "const      -7.896e+05   1.68e+05     -4.714      0.000   -1.12e+06   -4.61e+05\n",
            "yr_built     674.7431     84.979      7.940      0.000     508.178     841.308\n",
            "==============================================================================\n",
            "Omnibus:                    19135.901   Durbin-Watson:                   1.972\n",
            "Prob(Omnibus):                  0.000   Jarque-Bera (JB):          1142512.023\n",
            "Skew:                           4.031   Prob(JB):                         0.00\n",
            "Kurtosis:                      37.708   Cond. No.                     1.32e+05\n",
            "==============================================================================\n",
            "\n",
            "Notes:\n",
            "[1] Standard Errors assume that the covariance matrix of the errors is correctly specified.\n",
            "[2] The condition number is large, 1.32e+05. This might indicate that there are\n",
            "strong multicollinearity or other numerical problems.\n"
          ]
        }
      ]
    }
  ],
  "metadata": {
    "kernelspec": {
      "display_name": "Python (learn-env)",
      "language": "python",
      "name": "learn-env"
    },
    "language_info": {
      "codemirror_mode": {
        "name": "ipython",
        "version": 3
      },
      "file_extension": ".py",
      "mimetype": "text/x-python",
      "name": "python",
      "nbconvert_exporter": "python",
      "pygments_lexer": "ipython3",
      "version": "3.8.5"
    },
    "colab": {
      "provenance": [],
      "include_colab_link": true
    }
  },
  "nbformat": 4,
  "nbformat_minor": 0
}